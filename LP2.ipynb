{
  "nbformat": 4,
  "nbformat_minor": 0,
  "metadata": {
    "colab": {
      "provenance": [],
      "authorship_tag": "ABX9TyM/Qmc+ZRIzFJ26srBF6Baf",
      "include_colab_link": true
    },
    "kernelspec": {
      "name": "python3",
      "display_name": "Python 3"
    },
    "language_info": {
      "name": "python"
    }
  },
  "cells": [
    {
      "cell_type": "markdown",
      "metadata": {
        "id": "view-in-github",
        "colab_type": "text"
      },
      "source": [
        "<a href=\"https://colab.research.google.com/github/emilytsen/logicaPy/blob/main/LP2.ipynb\" target=\"_parent\"><img src=\"https://colab.research.google.com/assets/colab-badge.svg\" alt=\"Open In Colab\"/></a>"
      ]
    },
    {
      "cell_type": "code",
      "metadata": {
        "id": "tURRF5hQz7Iw",
        "colab": {
          "base_uri": "https://localhost:8080/"
        },
        "outputId": "19d5d1a2-3d7f-42cd-bde1-7342f353326b"
      },
      "source": [
        "num = 1\n",
        "while num <= 100:\n",
        "  print(num, end=' ')\n",
        "  num = num + 1"
      ],
      "execution_count": null,
      "outputs": [
        {
          "output_type": "stream",
          "text": [
            "1 2 3 4 5 6 7 8 9 10 11 12 13 14 15 16 17 18 19 20 21 22 23 24 25 26 27 28 29 30 31 32 33 34 35 36 37 38 39 40 41 42 43 44 45 46 47 48 49 50 51 52 53 54 55 56 57 58 59 60 61 62 63 64 65 66 67 68 69 70 71 72 73 74 75 76 77 78 79 80 81 82 83 84 85 86 87 88 89 90 91 92 93 94 95 96 97 98 99 100 "
          ],
          "name": "stdout"
        }
      ]
    },
    {
      "cell_type": "code",
      "metadata": {
        "id": "EDex_mfEjor8"
      },
      "source": [],
      "execution_count": null,
      "outputs": []
    },
    {
      "cell_type": "code",
      "metadata": {
        "colab": {
          "base_uri": "https://localhost:8080/"
        },
        "id": "UnkbMgGFmhuW",
        "outputId": "ea19b893-a26d-4bdb-8fdb-29017962eec5"
      },
      "source": [
        "for i in range(100,0,-1):\n",
        "  print(i, end=' ')"
      ],
      "execution_count": null,
      "outputs": [
        {
          "output_type": "stream",
          "text": [
            "100 99 98 97 96 95 94 93 92 91 90 89 88 87 86 85 84 83 82 81 80 79 78 77 76 75 74 73 72 71 70 69 68 67 66 65 64 63 62 61 60 59 58 57 56 55 54 53 52 51 50 49 48 47 46 45 44 43 42 41 40 39 38 37 36 35 34 33 32 31 30 29 28 27 26 25 24 23 22 21 20 19 18 17 16 15 14 13 12 11 10 9 8 7 6 5 4 3 2 1 "
          ],
          "name": "stdout"
        }
      ]
    },
    {
      "cell_type": "code",
      "metadata": {
        "id": "WtxBpjeIm-w8"
      },
      "source": [
        "#errado\n",
        "num = 1 \n",
        "while num < 101:\n",
        "  if num >= 2 == 0:\n",
        "    print(num)\n",
        "  num = num + 1"
      ],
      "execution_count": null,
      "outputs": []
    },
    {
      "cell_type": "code",
      "metadata": {
        "colab": {
          "base_uri": "https://localhost:8080/"
        },
        "id": "Cgeza05HoUAl",
        "outputId": "ff87c479-7097-48a9-e8c5-1783fd717af7"
      },
      "source": [
        "continuar = 'S' #entrar na execussão\n",
        "while continuar == 'S' or continuar == 's':\n",
        "\n",
        "  import random #importar numero aleatório\n",
        "  n1 = random.randint(0,10)\n",
        "  n2 = random.randint(0,10)\n",
        "  print(n1)\n",
        "  print(n2)\n",
        "\n",
        "  print('Qual é o resultado entre a multiplicação entre {} e {}?'.format(n1,n2))\n",
        "  resp = int(input())\n",
        "\n",
        "\n",
        "\n",
        "  if resp == n1 * n2:\n",
        "    print('Acertou miseravi!')\n",
        "  else:\n",
        "    print('Errou miseravi!')\n",
        "  \n",
        "  continuar = input('Deseja continuar (s/n)?')\n"
      ],
      "execution_count": null,
      "outputs": [
        {
          "output_type": "stream",
          "text": [
            "6\n",
            "5\n",
            "Qual é o resultado entre a multiplicação entre 6 e 5?\n",
            "30\n",
            "Acertou miseravi!\n",
            "Deseja continuar (s/n)?s\n",
            "10\n",
            "7\n",
            "Qual é o resultado entre a multiplicação entre 10 e 7?\n",
            "9\n",
            "Errou miseravi!\n",
            "Deseja continuar (s/n)?n\n"
          ],
          "name": "stdout"
        }
      ]
    },
    {
      "cell_type": "code",
      "metadata": {
        "colab": {
          "base_uri": "https://localhost:8080/"
        },
        "id": "D0So42M1yThU",
        "outputId": "3f3bf6e3-2f34-4ef7-a886-6c753fcb92a1"
      },
      "source": [
        "cont = 1\n",
        "cond = 's'\n",
        "\n",
        "while cond == 's' or cond == 'S':\n",
        "\n",
        "  aluno = input('Digite o nome do {}° aluno:'.format(cont))\n",
        "  n1 = int(input('Nota 1:'))\n",
        "  n2 = int(input('Nota 2:'))\n",
        "  media = (n1+n2)/2\n",
        "  print('A média final de {} é: {}'.format(aluno,media))\n",
        "  cont = cont + 1\n",
        "  cond = input('Deseja continuar (s/n)?')"
      ],
      "execution_count": null,
      "outputs": [
        {
          "output_type": "stream",
          "text": [
            "Digite o nome do 1° aluno:ana\n",
            "Nota 1:0\n",
            "Nota 2:9\n",
            "A média final de ana é: 4.5\n",
            "Deseja continuar (s/n)?s\n",
            "Digite o nome do 2° aluno:joao\n",
            "Nota 1:5\n",
            "Nota 2:7\n",
            "A média final de joao é: 6.0\n",
            "Deseja continuar (s/n)?n\n"
          ],
          "name": "stdout"
        }
      ]
    },
    {
      "cell_type": "code",
      "metadata": {
        "id": "XrqYejN83pQK"
      },
      "source": [
        "passo = 1\n",
        "quantidade = int(input('Quantas notas N1 e N2 você deseja digitar? '))\n",
        "while passo <= quantidade:\n",
        "  n1 = int(input('Digite a N1: '))\n",
        "  n2 = int(input('Digite a N2: '))\n",
        "  media = (n1+n2)/2\n",
        "  print('A média das notas N1 e N2 é: ', media)\n",
        "  passo = passo + "
      ],
      "execution_count": null,
      "outputs": []
    },
    {
      "cell_type": "code",
      "metadata": {
        "colab": {
          "base_uri": "https://localhost:8080/"
        },
        "id": "KyUv-erQ41Dt",
        "outputId": "1841ae78-a1ed-4fac-f3bf-6739446ef194"
      },
      "source": [
        "\n",
        "cont = 1\n",
        "par = 0\n",
        "inpar = 0\n",
        "print('digite 10 numeros para efetuarmos a soma dos pares e dos impares')\n",
        "while cont < 11:\n",
        "  n = int(input('digite o {}° número:'.format(cont)))\n",
        "  cal = n % 2\n",
        "  \n",
        "  if cal == 0: \n",
        "    par = par + n\n",
        "  else:\n",
        "    inpar = inpar + n\n",
        "  cont = cont + 1\n",
        "print('A soma de todos os pares são:',par)\n",
        "print('A soma de todos os impares são:',inpar)"
      ],
      "execution_count": null,
      "outputs": [
        {
          "output_type": "stream",
          "text": [
            "digite 10 numeros para efetuarmos a soma dos pares e dos impares\n",
            "digite o 1° número:5\n",
            "digite o 2° número:7\n",
            "digite o 3° número:8\n",
            "digite o 4° número:3\n",
            "digite o 5° número:4\n",
            "digite o 6° número:5\n",
            "digite o 7° número:3\n",
            "digite o 8° número:4\n",
            "digite o 9° número:5\n",
            "digite o 10° número:6\n",
            "A soma de todos os pares são: 22\n",
            "A soma de todos os impares são: 28\n"
          ],
          "name": "stdout"
        }
      ]
    },
    {
      "cell_type": "code",
      "metadata": {
        "colab": {
          "base_uri": "https://localhost:8080/"
        },
        "id": "5LUObJfiAfL-",
        "outputId": "d5cf73fb-0259-4512-ed5b-9925a2c9c002"
      },
      "source": [
        "par = 0\n",
        "inpar = 0\n",
        "print('digite 10 numeros para efetuarmos a soma dos pares e dos impares')\n",
        "for i in range(10):\n",
        "  n = int(input('digite um número:'))\n",
        "  cal = n % 2\n",
        "  \n",
        "  if cal == 0: \n",
        "    par = par + n\n",
        "  else:\n",
        "    inpar = inpar + n\n",
        "print('A soma de todos os pares são:',par)\n",
        "print('A soma de todos os impares são:',inpar)"
      ],
      "execution_count": null,
      "outputs": [
        {
          "output_type": "stream",
          "text": [
            "digite 10 numeros para efetuarmos a soma dos pares e dos impares\n",
            "digite um número:4\n",
            "digite um número:5\n",
            "digite um número:6\n",
            "digite um número:7\n"
          ],
          "name": "stdout"
        }
      ]
    },
    {
      "cell_type": "code",
      "metadata": {
        "colab": {
          "base_uri": "https://localhost:8080/"
        },
        "id": "5mSavylXmpn-",
        "outputId": "0d77d07c-9385-4ddd-b712-0dab549dd6f7"
      },
      "source": [
        "import random\n",
        "maior = 1\n",
        "menor = 50\n",
        "for i in range(20):\n",
        "    \n",
        "  print(numero, end=' ')\n",
        "  if numero > maior:\n",
        "    maior = numero\n",
        "  elif numero < menor:\n",
        "    menor = numero    \n",
        "print()\n",
        "print('O maior número sorteado é: ',maior)\n",
        "print('O menor número sorteado é: ',menor)"
      ],
      "execution_count": null,
      "outputs": [
        {
          "output_type": "stream",
          "text": [
            "8 3 36 50 38 15 15 19 33 15 22 25 20 1 8 13 1 33 21 32 \n",
            "O maior número sorteado é:  50\n",
            "O menor número sorteado é:  1\n"
          ],
          "name": "stdout"
        }
      ]
    },
    {
      "cell_type": "code",
      "metadata": {
        "colab": {
          "base_uri": "https://localhost:8080/"
        },
        "id": "ym9g0thYqH28",
        "outputId": "da999eea-edbc-4f26-ac65-2e101612913b"
      },
      "source": [
        "\n",
        "#elaborar um programa para exibir os números decrescente (a cada 3) até o 0 a partir do 1000 \n",
        "num = 1000\n",
        "while num > 3:\n",
        "  num  = num - 3\n",
        "  print(num, end=' ')\n",
        "\n"
      ],
      "execution_count": null,
      "outputs": [
        {
          "output_type": "stream",
          "text": [
            "97 94 91 88 85 82 79 76 73 70 67 64 61 58 55 52 49 46 43 40 37 34 31 28 25 22 19 16 13 10 7 4 1 "
          ],
          "name": "stdout"
        }
      ]
    },
    {
      "cell_type": "code",
      "metadata": {
        "colab": {
          "base_uri": "https://localhost:8080/"
        },
        "id": "RhtBmVbuseEy",
        "outputId": "d2ee58f2-268c-4967-a4e5-b5768579ad42"
      },
      "source": [
        "#elaborar um programa para exibir os números decrescente (a cada 3) até o 199 a partir do 1000 \n",
        "num = 1003\n",
        "while num > 199:\n",
        "  num  = num - 3\n",
        "  print(num, end=' ')"
      ],
      "execution_count": null,
      "outputs": [
        {
          "output_type": "stream",
          "text": [
            "1000 997 994 991 988 985 982 979 976 973 970 967 964 961 958 955 952 949 946 943 940 937 934 931 928 925 922 919 916 913 910 907 904 901 898 895 892 889 886 883 880 877 874 871 868 865 862 859 856 853 850 847 844 841 838 835 832 829 826 823 820 817 814 811 808 805 802 799 796 793 790 787 784 781 778 775 772 769 766 763 760 757 754 751 748 745 742 739 736 733 730 727 724 721 718 715 712 709 706 703 700 697 694 691 688 685 682 679 676 673 670 667 664 661 658 655 652 649 646 643 640 637 634 631 628 625 622 619 616 613 610 607 604 601 598 595 592 589 586 583 580 577 574 571 568 565 562 559 556 553 550 547 544 541 538 535 532 529 526 523 520 517 514 511 508 505 502 499 496 493 490 487 484 481 478 475 472 469 466 463 460 457 454 451 448 445 442 439 436 433 430 427 424 421 418 415 412 409 406 403 400 397 394 391 388 385 382 379 376 373 370 367 364 361 358 355 352 349 346 343 340 337 334 331 328 325 322 319 316 313 310 307 304 301 298 295 292 289 286 283 280 277 274 271 268 265 262 259 256 253 250 247 244 241 238 235 232 229 226 223 220 217 214 211 208 205 202 199 "
          ],
          "name": "stdout"
        }
      ]
    },
    {
      "cell_type": "code",
      "metadata": {
        "colab": {
          "base_uri": "https://localhost:8080/"
        },
        "id": "SFwl0ugStOMw",
        "outputId": "6a23a8c3-95f2-4d94-fe10-c4ae49cd5473"
      },
      "source": [
        "#outra forma\n",
        "#range(start, stop, step)\n",
        "for numero in range(1000, 198,-3):\n",
        "  print(numero, end=' ')"
      ],
      "execution_count": null,
      "outputs": [
        {
          "output_type": "stream",
          "text": [
            "1000 997 994 991 988 985 982 979 976 973 970 967 964 961 958 955 952 949 946 943 940 937 934 931 928 925 922 919 916 913 910 907 904 901 898 895 892 889 886 883 880 877 874 871 868 865 862 859 856 853 850 847 844 841 838 835 832 829 826 823 820 817 814 811 808 805 802 799 796 793 790 787 784 781 778 775 772 769 766 763 760 757 754 751 748 745 742 739 736 733 730 727 724 721 718 715 712 709 706 703 700 697 694 691 688 685 682 679 676 673 670 667 664 661 658 655 652 649 646 643 640 637 634 631 628 625 622 619 616 613 610 607 604 601 598 595 592 589 586 583 580 577 574 571 568 565 562 559 556 553 550 547 544 541 538 535 532 529 526 523 520 517 514 511 508 505 502 499 496 493 490 487 484 481 478 475 472 469 466 463 460 457 454 451 448 445 442 439 436 433 430 427 424 421 418 415 412 409 406 403 400 397 394 391 388 385 382 379 376 373 370 367 364 361 358 355 352 349 346 343 340 337 334 331 328 325 322 319 316 313 310 307 304 301 298 295 292 289 286 283 280 277 274 271 268 265 262 259 256 253 250 247 244 241 238 235 232 229 226 223 220 217 214 211 208 205 202 199 "
          ],
          "name": "stdout"
        }
      ]
    },
    {
      "cell_type": "code",
      "metadata": {
        "colab": {
          "base_uri": "https://localhost:8080/"
        },
        "id": "VDaIgp68ucNa",
        "outputId": "7c908e8c-4ed8-4fc5-859a-d46ffdbfe7b5"
      },
      "source": [
        "x = range(6)\n",
        "for n in x:\n",
        "  print(n)\n",
        "  "
      ],
      "execution_count": null,
      "outputs": [
        {
          "output_type": "stream",
          "text": [
            "0\n",
            "1\n",
            "2\n",
            "3\n",
            "4\n",
            "5\n"
          ],
          "name": "stdout"
        }
      ]
    },
    {
      "cell_type": "code",
      "metadata": {
        "colab": {
          "base_uri": "https://localhost:8080/"
        },
        "id": "uhZHmL9kuuWs",
        "outputId": "af17764e-f83c-4cda-ae47-8cc312d6552f"
      },
      "source": [
        "x = range(3, 6)\n",
        "for n in x:\n",
        "  print(n, end=' ')"
      ],
      "execution_count": null,
      "outputs": [
        {
          "output_type": "stream",
          "text": [
            "3 4 5 "
          ],
          "name": "stdout"
        }
      ]
    },
    {
      "cell_type": "code",
      "metadata": {
        "colab": {
          "base_uri": "https://localhost:8080/"
        },
        "id": "-HyneYdDu4Wk",
        "outputId": "00fedd2e-f301-48b4-a2ee-cc7d03ba7edb"
      },
      "source": [
        "x = range(3, 20, 2)\n",
        "for n in x:\n",
        "  print(n, end=' ')"
      ],
      "execution_count": null,
      "outputs": [
        {
          "output_type": "stream",
          "text": [
            "3 5 7 9 11 13 15 17 19 "
          ],
          "name": "stdout"
        }
      ]
    },
    {
      "cell_type": "code",
      "metadata": {
        "colab": {
          "base_uri": "https://localhost:8080/"
        },
        "id": "OUa9qvGvvYe-",
        "outputId": "563d9303-1035-4b98-fe79-38fc4dec49f0"
      },
      "source": [
        "for item in [3,4,5,6]:\n",
        "  print(item)"
      ],
      "execution_count": null,
      "outputs": [
        {
          "output_type": "stream",
          "text": [
            "3\n",
            "4\n",
            "5\n",
            "6\n"
          ],
          "name": "stdout"
        }
      ]
    },
    {
      "cell_type": "code",
      "metadata": {
        "colab": {
          "base_uri": "https://localhost:8080/"
        },
        "id": "a0tn_N4lv3Y_",
        "outputId": "0fccc8a4-6a21-4110-8d10-4490558f541b"
      },
      "source": [
        "lista = \"olá mundo\"\n",
        "for item in lista:\n",
        "  print(item)"
      ],
      "execution_count": null,
      "outputs": [
        {
          "output_type": "stream",
          "text": [
            "o\n",
            "l\n",
            "á\n",
            " \n",
            "m\n",
            "u\n",
            "n\n",
            "d\n",
            "o\n"
          ],
          "name": "stdout"
        }
      ]
    },
    {
      "cell_type": "code",
      "metadata": {
        "colab": {
          "base_uri": "https://localhost:8080/"
        },
        "id": "dmTuu5btwoNX",
        "outputId": "3bbbfaa4-6487-41f3-bf39-b23d1b87204e"
      },
      "source": [
        "for item in range(5):\n",
        "  print('olá mundo')"
      ],
      "execution_count": null,
      "outputs": [
        {
          "output_type": "stream",
          "text": [
            "olá mundo\n",
            "olá mundo\n",
            "olá mundo\n",
            "olá mundo\n",
            "olá mundo\n"
          ],
          "name": "stdout"
        }
      ]
    },
    {
      "cell_type": "code",
      "metadata": {
        "colab": {
          "base_uri": "https://localhost:8080/"
        },
        "id": "_zUB7a1Exchs",
        "outputId": "f0167036-dc4e-4343-a318-de829bc5bdf8"
      },
      "source": [
        "#mostrar a sequência dos N primeiros números da sequência de Fibonacci, solicitando o N para o usuário\n",
        "#1 1 2 3 5 8 13 21...\n",
        "n1 = 0\n",
        "n2 = 1\n",
        "sequencia = int(input('digite digite quantos números de Fibonacci deseja exibir:'))\n",
        "print(n1, n2)\n",
        "\n",
        "cont = 3"
      ],
      "execution_count": null,
      "outputs": [
        {
          "output_type": "stream",
          "text": [
            "digite digite quantos números de Fibonacci deseja exibir:2\n",
            "0 1\n"
          ],
          "name": "stdout"
        }
      ]
    },
    {
      "cell_type": "code",
      "metadata": {
        "id": "ZEcYWLY25Nbl",
        "colab": {
          "base_uri": "https://localhost:8080/"
        },
        "outputId": "7e677bdd-6230-43af-9c4a-2ab8937572de"
      },
      "source": [
        "num1 = 0\n",
        "num2 = 1\n",
        "\n",
        "sequencia = int(input('Digite quantos números de fibonacci deseja exibir: '))\n",
        "\n",
        "if sequencia == 1:\n",
        "  print(num1, end=' ')\n",
        "elif sequencia == 2:\n",
        "  print(num1, end=' ')\n",
        "  print(num2, end=' ')\n",
        "else:\n",
        "  print(num1, end=' ')\n",
        "  print(num2, end=' ')  \n",
        "  cont = 3\n",
        "  while cont <= sequencia:\n",
        "    proximo = num1 + num2\n",
        "    num1 = num2\n",
        "    num2 = proximo\n",
        "    print(proximo, end=' ')\n",
        "    cont = cont + 1"
      ],
      "execution_count": null,
      "outputs": [
        {
          "output_type": "stream",
          "text": [
            "Digite quantos números de fibonacci deseja exibir: 6\n",
            "0 1 1 2 3 5 "
          ],
          "name": "stdout"
        }
      ]
    },
    {
      "cell_type": "code",
      "metadata": {
        "colab": {
          "base_uri": "https://localhost:8080/"
        },
        "id": "yFJ3eR8K5pXU",
        "outputId": "e1d9068c-9e46-430a-a601-c3f2ddc742d8"
      },
      "source": [
        "n1 = int(input('Digite um valor:'))\n",
        "n2 = int(input('Digite um outro valor:'))\n",
        "cont = 0\n",
        "if n1 < n2:\n",
        "  while n1 < n2:\n",
        "   n1 = n1 + 1 \n",
        "   print(n1)\n",
        "   cont = cont + n1\n",
        "  print('a soma dos números entre os valores é:', cont)\n",
        "else: \n",
        "  while n1 > n2:\n",
        "    n1 = n1 - 1\n",
        "    print(n1)\n",
        "    cont = cont + n1\n",
        "  print('a soma dos números entre os valores é:', cont)\n"
      ],
      "execution_count": null,
      "outputs": [
        {
          "output_type": "stream",
          "text": [
            "Digite um valor:5\n",
            "Digite um outro valor:1\n",
            "4\n",
            "3\n",
            "2\n",
            "1\n",
            "a soma dos números entre os valores é: 10\n"
          ],
          "name": "stdout"
        }
      ]
    },
    {
      "cell_type": "code",
      "metadata": {
        "colab": {
          "base_uri": "https://localhost:8080/"
        },
        "id": "d8gaGj2AAQSN",
        "outputId": "c3efda64-d7fd-4009-efbb-5ff3b626cdd3"
      },
      "source": [
        "#pedir 2 numeros pro usuário e calcular a soma dos números entre esses valores(incluindo os valores colocados pelo usuário\n",
        "#se o n1 < n2, calcule mas se o n1 > n2 não calcule\n",
        "resposta = 'S'\n",
        "while resposta == 'S' or resposta == 's':\n",
        "  soma = 0\n",
        "  num1 = int(input(\"Digite o primeiro numero: \"))\n",
        "  num2 = int(input(\"Digite o segundo numero.: \"))\n",
        "  if num1 < num2:\n",
        "    for i in range(num1,num2+1): #[1,2,3,4,5]\n",
        "      soma = soma + i\n",
        "    print(f'O resultado da soma dos inteiros entre {num1} e {num2} e: {soma}')\n",
        "  else:\n",
        "    print('Não é possível fazer o cálculo, o 1º número é maior que o 2º!')\n",
        "  resposta = str(input('Deseja continuar? (S/N)'))"
      ],
      "execution_count": null,
      "outputs": [
        {
          "output_type": "stream",
          "text": [
            "Digite o primeiro numero: 1\n",
            "Digite o segundo numero.: 4\n",
            "O resultado da soma dos inteiros entre 1 e 4 e: 10\n",
            "Deseja continuar? (S/N)n\n"
          ],
          "name": "stdout"
        }
      ]
    },
    {
      "cell_type": "code",
      "metadata": {
        "colab": {
          "base_uri": "https://localhost:8080/"
        },
        "id": "J0vBBb4dD6Gf",
        "outputId": "dd384f70-4ccf-4f05-9b56-8065d356a762"
      },
      "source": [
        "num = 1234\n",
        "metade1 = str(num)[0] + str(num)[1]\n",
        "print (num)\n",
        "print(int(metade1) + int(metade1))\n",
        "print(metade1 + metade1)"
      ],
      "execution_count": null,
      "outputs": [
        {
          "output_type": "stream",
          "text": [
            "1234\n",
            "24\n",
            "1212\n"
          ],
          "name": "stdout"
        }
      ]
    },
    {
      "cell_type": "code",
      "metadata": {
        "colab": {
          "base_uri": "https://localhost:8080/"
        },
        "id": "SBZJHrXkjq5E",
        "outputId": "145fd2d0-9146-4178-ed28-6196120b5c49"
      },
      "source": [
        "# 3025 > 30+25=55 e 55*55=3025 mostrar todos os numeros com essa propriedade:\n",
        "for i in range (1000,10000,1): #de 1000 a 10000 arescentando de 1 em 1\n",
        "  texto = str(i) #converter i para texto\n",
        "  a = int(texto[0] + texto[1])\n",
        "  b = int(texto[2] + texto[3])\n",
        "  soma = a + b \n",
        "  if(soma * soma == i):\n",
        "    print(i)"
      ],
      "execution_count": null,
      "outputs": [
        {
          "output_type": "stream",
          "text": [
            "2025\n",
            "3025\n",
            "9801\n"
          ],
          "name": "stdout"
        }
      ]
    },
    {
      "cell_type": "code",
      "metadata": {
        "colab": {
          "base_uri": "https://localhost:8080/"
        },
        "id": "wMaGyyh8ouy9",
        "outputId": "242e7da8-e508-4c8c-aea7-4d0de2991e99"
      },
      "source": [
        "l = [0]*5\n",
        "print(l)"
      ],
      "execution_count": null,
      "outputs": [
        {
          "output_type": "stream",
          "text": [
            "[0, 0, 0, 0, 0]\n"
          ],
          "name": "stdout"
        }
      ]
    },
    {
      "cell_type": "code",
      "metadata": {
        "colab": {
          "base_uri": "https://localhost:8080/"
        },
        "id": "tFNlHdwJvKom",
        "outputId": "a8c39e2c-fbc3-40e9-bf21-a183804aeb47"
      },
      "source": [
        "l = [1,2]*5\n",
        "print(l)"
      ],
      "execution_count": null,
      "outputs": [
        {
          "output_type": "stream",
          "text": [
            "[1, 2, 1, 2, 1, 2, 1, 2, 1, 2]\n"
          ],
          "name": "stdout"
        }
      ]
    },
    {
      "cell_type": "code",
      "metadata": {
        "colab": {
          "base_uri": "https://localhost:8080/"
        },
        "id": "vepRH0NEvlXP",
        "outputId": "9558e6d7-0494-40c8-c5cb-2fbec2ebfd8e"
      },
      "source": [
        "l=[]\n",
        "print(l)"
      ],
      "execution_count": null,
      "outputs": [
        {
          "output_type": "stream",
          "text": [
            "[]\n"
          ],
          "name": "stdout"
        }
      ]
    },
    {
      "cell_type": "code",
      "metadata": {
        "colab": {
          "base_uri": "https://localhost:8080/"
        },
        "id": "9Qy0s82Fvt9G",
        "outputId": "0f35b079-9ecb-49e9-f525-8341c4c7c3cf"
      },
      "source": [
        "n = '3565'\n",
        "l = list(n)\n",
        "print(l)"
      ],
      "execution_count": null,
      "outputs": [
        {
          "output_type": "stream",
          "text": [
            "['3', '5', '6', '5']\n"
          ],
          "name": "stdout"
        }
      ]
    },
    {
      "cell_type": "code",
      "metadata": {
        "colab": {
          "base_uri": "https://localhost:8080/"
        },
        "id": "7l0zxT0cxSxQ",
        "outputId": "7607cedb-ebf9-4cda-efa7-80972bf6d14e"
      },
      "source": [
        "l = [12, 9, 4]\n",
        "print(l[0])"
      ],
      "execution_count": null,
      "outputs": [
        {
          "output_type": "stream",
          "text": [
            "12\n"
          ],
          "name": "stdout"
        }
      ]
    },
    {
      "cell_type": "code",
      "metadata": {
        "colab": {
          "base_uri": "https://localhost:8080/"
        },
        "id": "3zJureQCyb5k",
        "outputId": "10cd96e6-21d6-43e3-c4a7-bc984270ef72"
      },
      "source": [
        "l = [12, 9, 4]\n",
        "print(l[0])\n",
        "l[0] = 7\n",
        "print(l[0])"
      ],
      "execution_count": null,
      "outputs": [
        {
          "output_type": "stream",
          "text": [
            "12\n",
            "7\n"
          ],
          "name": "stdout"
        }
      ]
    },
    {
      "cell_type": "code",
      "metadata": {
        "colab": {
          "base_uri": "https://localhost:8080/"
        },
        "id": "6pEu-8q0zmIW",
        "outputId": "3d4f9679-e4e8-46cb-c8e0-0078432f3383"
      },
      "source": [
        "l = [1,2,3,4,5]\n",
        "print(len(l))"
      ],
      "execution_count": null,
      "outputs": [
        {
          "output_type": "stream",
          "text": [
            "5\n"
          ],
          "name": "stdout"
        }
      ]
    },
    {
      "cell_type": "code",
      "metadata": {
        "colab": {
          "base_uri": "https://localhost:8080/"
        },
        "id": "Swogf6jh0B9R",
        "outputId": "c50823af-ee51-4a32-a325-dec7c2d9aee0"
      },
      "source": [
        "l = [1,2,3,4,5]\n",
        "x = 0\n",
        "while x < len(l):\n",
        "  print(l[x], end=\" \")\n",
        "  x = x + 1"
      ],
      "execution_count": null,
      "outputs": [
        {
          "output_type": "stream",
          "text": [
            "1 2 3 4 5 "
          ],
          "name": "stdout"
        }
      ]
    },
    {
      "cell_type": "code",
      "metadata": {
        "colab": {
          "base_uri": "https://localhost:8080/"
        },
        "id": "Ypx-ier03ihM",
        "outputId": "453c91cc-2687-4a3e-ae2e-1486b159bfee"
      },
      "source": [
        "L = [9,8,7,6,5]\n",
        "for i in range(len(L)):\n",
        "  print(L[i],end=\" \")"
      ],
      "execution_count": null,
      "outputs": [
        {
          "output_type": "stream",
          "text": [
            "9 8 7 6 5 "
          ],
          "name": "stdout"
        }
      ]
    },
    {
      "cell_type": "code",
      "metadata": {
        "colab": {
          "base_uri": "https://localhost:8080/"
        },
        "id": "XJDoqPoL6OPY",
        "outputId": "eee0846b-c18e-4ddb-faaa-c80839f34be5"
      },
      "source": [
        "L = [1,2,3,2,1]\n",
        "for item in L:\n",
        "  print(item,end=\" \")"
      ],
      "execution_count": null,
      "outputs": [
        {
          "output_type": "stream",
          "text": [
            "1 2 3 2 1 "
          ],
          "name": "stdout"
        }
      ]
    },
    {
      "cell_type": "code",
      "metadata": {
        "colab": {
          "base_uri": "https://localhost:8080/"
        },
        "id": "HSXnm0gO8gDB",
        "outputId": "1a1dfaf6-5a2f-437c-8b37-831221e0da92"
      },
      "source": [
        "#colocar valores na lista  \n",
        "l=[]\n",
        "print(l)\n",
        "for i in range(10):\n",
        "  valor = int(input(\"{}° valor ->\".format(i+1)))\n",
        "  l.append(valor)\n",
        "  print(l)"
      ],
      "execution_count": null,
      "outputs": [
        {
          "output_type": "stream",
          "text": [
            "[]\n",
            "1° valor ->3\n",
            "[3]\n",
            "2° valor ->12\n",
            "[3, 12]\n",
            "3° valor ->2\n",
            "[3, 12, 2]\n",
            "4° valor ->3\n",
            "[3, 12, 2, 3]\n",
            "5° valor ->4\n",
            "[3, 12, 2, 3, 4]\n",
            "6° valor ->1123\n",
            "[3, 12, 2, 3, 4, 1123]\n",
            "7° valor ->4\n",
            "[3, 12, 2, 3, 4, 1123, 4]\n",
            "8° valor ->4\n",
            "[3, 12, 2, 3, 4, 1123, 4, 4]\n",
            "9° valor ->43\n",
            "[3, 12, 2, 3, 4, 1123, 4, 4, 43]\n",
            "10° valor ->3\n",
            "[3, 12, 2, 3, 4, 1123, 4, 4, 43, 3]\n"
          ],
          "name": "stdout"
        }
      ]
    },
    {
      "cell_type": "code",
      "metadata": {
        "colab": {
          "base_uri": "https://localhost:8080/"
        },
        "id": "VKoqDsfc-VfY",
        "outputId": "adbc1b18-9fbc-4564-cd87-4e711f0a941f"
      },
      "source": [],
      "execution_count": null,
      "outputs": [
        {
          "output_type": "stream",
          "text": [
            "[0, 0, 0, 0, 0, 0, 0, 0, 0, 0]\n",
            "1º valor -> 9\n",
            "2º valor -> 4\n",
            "3º valor -> 5\n",
            "4º valor -> 6\n",
            "5º valor -> 2\n",
            "6º valor -> 3\n",
            "7º valor -> 4\n",
            "8º valor -> 5\n",
            "9º valor -> 6\n",
            "10º valor -> 6\n",
            "[9, 4, 5, 6, 2, 3, 4, 5, 6, 6]\n"
          ],
          "name": "stdout"
        }
      ]
    },
    {
      "cell_type": "code",
      "metadata": {
        "colab": {
          "base_uri": "https://localhost:8080/"
        },
        "id": "nwpOgzIG_cib",
        "outputId": "3c8cfbda-8c40-40f0-e1ed-df5e2aba6b84"
      },
      "source": [
        "from random import randint\n",
        "l=[]\n",
        "for i in range (5):\n",
        "  l.append(randint(1,50))\n",
        "print(l)"
      ],
      "execution_count": null,
      "outputs": [
        {
          "output_type": "stream",
          "text": [
            "[43, 2, 29, 4, 19]\n"
          ],
          "name": "stdout"
        }
      ]
    },
    {
      "cell_type": "code",
      "metadata": {
        "colab": {
          "base_uri": "https://localhost:8080/"
        },
        "id": "Q8_QHUf9BdbH",
        "outputId": "e878fec7-1dda-4378-c81b-d68032ed3ba7"
      },
      "source": [
        "#gerar 10 numeros aleatorios (1,50) e mostre quantos pares e impares\n",
        "\n",
        "from random import randint\n",
        "l=[]\n",
        "cont = 0\n",
        "for i in range(10):\n",
        "  l.append(randint(1,50))\n",
        "print('Litsta terá esses números aleatórios:', l)\n",
        "while cont < len(l):\n",
        "  if(l[])\n",
        "  \n",
        "  cont += 1"
      ],
      "execution_count": null,
      "outputs": [
        {
          "output_type": "stream",
          "text": [
            "Litsta terá esses números aleatórios: [22, 42, 18, 6, 42, 45, 33, 34, 38, 1]\n"
          ],
          "name": "stdout"
        }
      ]
    },
    {
      "cell_type": "code",
      "metadata": {
        "colab": {
          "base_uri": "https://localhost:8080/"
        },
        "id": "7GMzgXzCHaEU",
        "outputId": "b1f7a766-273b-4b92-dfb6-591299ece2c0"
      },
      "source": [
        "from random import randint\n",
        "l=[]\n",
        "par = 0\n",
        "cont = 0\n",
        "for i in range(20):\n",
        "  l.append(randint(1,50))\n",
        "  if (l[i] % 2 == 0):\n",
        "    par = par + l[i]\n",
        "    cont = cont + 1\n",
        "  print(l, par, cont)\n",
        "total =  par / cont\n",
        "print(total)"
      ],
      "execution_count": null,
      "outputs": [
        {
          "output_type": "stream",
          "text": [
            "[46] 46 1\n",
            "[46, 28] 74 2\n",
            "[46, 28, 21] 74 2\n",
            "[46, 28, 21, 46] 120 3\n",
            "[46, 28, 21, 46, 1] 120 3\n",
            "[46, 28, 21, 46, 1, 5] 120 3\n",
            "[46, 28, 21, 46, 1, 5, 40] 160 4\n",
            "[46, 28, 21, 46, 1, 5, 40, 28] 188 5\n",
            "[46, 28, 21, 46, 1, 5, 40, 28, 48] 236 6\n",
            "[46, 28, 21, 46, 1, 5, 40, 28, 48, 14] 250 7\n",
            "[46, 28, 21, 46, 1, 5, 40, 28, 48, 14, 2] 252 8\n",
            "[46, 28, 21, 46, 1, 5, 40, 28, 48, 14, 2, 12] 264 9\n",
            "[46, 28, 21, 46, 1, 5, 40, 28, 48, 14, 2, 12, 5] 264 9\n",
            "[46, 28, 21, 46, 1, 5, 40, 28, 48, 14, 2, 12, 5, 18] 282 10\n",
            "[46, 28, 21, 46, 1, 5, 40, 28, 48, 14, 2, 12, 5, 18, 19] 282 10\n",
            "[46, 28, 21, 46, 1, 5, 40, 28, 48, 14, 2, 12, 5, 18, 19, 36] 318 11\n",
            "[46, 28, 21, 46, 1, 5, 40, 28, 48, 14, 2, 12, 5, 18, 19, 36, 25] 318 11\n",
            "[46, 28, 21, 46, 1, 5, 40, 28, 48, 14, 2, 12, 5, 18, 19, 36, 25, 41] 318 11\n",
            "[46, 28, 21, 46, 1, 5, 40, 28, 48, 14, 2, 12, 5, 18, 19, 36, 25, 41, 29] 318 11\n",
            "[46, 28, 21, 46, 1, 5, 40, 28, 48, 14, 2, 12, 5, 18, 19, 36, 25, 41, 29, 41] 318 11\n",
            "28.90909090909091\n"
          ],
          "name": "stdout"
        }
      ]
    },
    {
      "cell_type": "code",
      "metadata": {
        "colab": {
          "base_uri": "https://localhost:8080/"
        },
        "id": "QiOhI53Ss7Z1",
        "outputId": "5e8837ad-c3ab-4417-cb43-fdd51c91cd2a"
      },
      "source": [
        "m = [[123],[123]]\n",
        "print(m)\n"
      ],
      "execution_count": null,
      "outputs": [
        {
          "output_type": "stream",
          "text": [
            "[[123], [123]]\n",
            "[[1, 1, 1], [1, 1, 1]]\n"
          ],
          "name": "stdout"
        }
      ]
    },
    {
      "cell_type": "code",
      "metadata": {
        "id": "6wyqv52ZwSRk"
      },
      "source": [
        "m = [0]*2 #[0,0]\n",
        "for i in range (2):\n",
        "  m[i] = [0]*3 # [0,0] -> [[0,0,0],0] \n",
        "  for j in range (3):\n",
        "    m[i][j] = 1\n",
        "print(m)"
      ],
      "execution_count": null,
      "outputs": []
    },
    {
      "cell_type": "code",
      "metadata": {
        "colab": {
          "base_uri": "https://localhost:8080/"
        },
        "id": "VeCk4mL53tD_",
        "outputId": "1bee930c-9498-47df-cd18-afe1f8e90643"
      },
      "source": [
        "M = [0] * 2\n",
        "M[0]=[1,1,1]\n",
        "M[1]=[2,2,2]\n",
        "print(M)"
      ],
      "execution_count": null,
      "outputs": [
        {
          "output_type": "stream",
          "text": [
            "[[1, 1, 1], [2, 2, 2]]\n"
          ],
          "name": "stdout"
        }
      ]
    },
    {
      "cell_type": "code",
      "metadata": {
        "colab": {
          "base_uri": "https://localhost:8080/"
        },
        "id": "HuNH51zG5K3J",
        "outputId": "4abd086c-7b2f-4d67-c16c-61f685c8543b"
      },
      "source": [
        "M=[[1,2,3],[4,5,6]]\n",
        "print(M[0][1])"
      ],
      "execution_count": null,
      "outputs": [
        {
          "output_type": "stream",
          "text": [
            "2\n"
          ],
          "name": "stdout"
        }
      ]
    },
    {
      "cell_type": "code",
      "metadata": {
        "colab": {
          "base_uri": "https://localhost:8080/"
        },
        "id": "O9Bmeblq7hJj",
        "outputId": "44bff334-1906-4c1f-e830-ef7e31a078bd"
      },
      "source": [
        "m=[[1,2,3],[4,5,6]]\n",
        "for i in range (0,2):\n",
        "  for j in range (0,3):\n",
        "    print(\"[{:^3}]\".format(m[1][j]), end=' ')\n",
        "  print()"
      ],
      "execution_count": null,
      "outputs": [
        {
          "output_type": "stream",
          "text": [
            "[ 4 ] [ 5 ] [ 6 ] \n",
            "[ 4 ] [ 5 ] [ 6 ] \n"
          ],
          "name": "stdout"
        }
      ]
    },
    {
      "cell_type": "code",
      "metadata": {
        "colab": {
          "base_uri": "https://localhost:8080/"
        },
        "id": "A7bIE9uqAVwK",
        "outputId": "c72878e8-b83c-4b9e-e2ce-89d78c61ad29"
      },
      "source": [
        "M=[0]*2\n",
        "for i in range(0,2):\n",
        "    M[i]=[0]*3\n",
        "for j in range(0,3):\n",
        "        M[i][j]=int(input(\"Digite o valor [{}][{}] -> \".format(i,j)))\n",
        "print(m)"
      ],
      "execution_count": null,
      "outputs": [
        {
          "output_type": "stream",
          "text": [
            "Digite o valor [1][0] -> 4\n",
            "Digite o valor [1][1] -> 5\n",
            "Digite o valor [1][2] -> 7\n",
            "[[1, 2, 3], [4, 5, 6]]\n"
          ],
          "name": "stdout"
        }
      ]
    },
    {
      "cell_type": "code",
      "metadata": {
        "id": "WuXLlw-uBGQ9"
      },
      "source": [
        "M=[]\n",
        "for i in range(0,2):\n",
        "    M.append([])\n",
        "for j in range(0,3):\n",
        "        M[i].append(int(input(\"Digite valor [{}][{}] -> \".format(i,j))))"
      ],
      "execution_count": null,
      "outputs": []
    },
    {
      "cell_type": "code",
      "metadata": {
        "colab": {
          "base_uri": "https://localhost:8080/"
        },
        "id": "DP2sinsgBnOO",
        "outputId": "3cf690cf-8c03-490d-e18e-2efb20f35687"
      },
      "source": [
        "from random import randint \n",
        "m=[]\n",
        "for i in range (2):\n",
        "  m.append([])\n",
        "  for j in range (3):\n",
        "    m[i].append(randint(1,50))\n",
        "print(m)"
      ],
      "execution_count": null,
      "outputs": [
        {
          "output_type": "stream",
          "text": [
            "[[49, 28, 37], [4, 19, 17]]\n"
          ],
          "name": "stdout"
        }
      ]
    },
    {
      "cell_type": "code",
      "metadata": {
        "colab": {
          "base_uri": "https://localhost:8080/"
        },
        "id": "Cic6G1bVE58Q",
        "outputId": "fabb789e-c238-465c-cb90-b9deeb43b796"
      },
      "source": [
        "m=[]\n",
        "calc = 0\n",
        "for i in range (2):\n",
        "  m.append([])\n",
        "  for j in range (3):\n",
        "    m[i].append(int(input('Digite um número:')))\n",
        "    calc = calc + m[i][j]\n",
        "print('soma dos números inseridos:',calc)\n",
        "print(m)"
      ],
      "execution_count": null,
      "outputs": [
        {
          "output_type": "stream",
          "text": [
            "Digite um número:1\n",
            "Digite um número:2\n",
            "Digite um número:3\n",
            "Digite um número:4\n",
            "Digite um número:5\n",
            "Digite um número:6\n",
            "soma dos números inseridos: 21\n",
            "[[1, 2, 3], [4, 5, 6]]\n"
          ],
          "name": "stdout"
        }
      ]
    },
    {
      "cell_type": "code",
      "metadata": {
        "colab": {
          "base_uri": "https://localhost:8080/"
        },
        "id": "9Sm4qoB-MSqY",
        "outputId": "afcd0ec1-ae59-41ec-84fd-90eb9ac802a7"
      },
      "source": [
        "M=[]\n",
        "\n",
        "linhas = 2\n",
        "\n",
        "colunas = 3\n",
        "\n",
        "somatoria = 0\n",
        "\n",
        "for linha in range(linhas): #[0,1]\n",
        "\n",
        "  M.append([])\n",
        "\n",
        "  for coluna in range(colunas): #[0,1,2]\n",
        "\n",
        "    M[linha].append(int(input(f'Digite um valor para [{linha}][{coluna}]: ')))\n",
        "\n",
        "    somatoria = somatoria + M[linha][coluna]\n",
        "\n",
        "print(M)\n",
        "\n",
        "media = somatoria/(linhas*colunas)\n",
        "\n",
        "print('Soma dos valores: ', somatoria)\n",
        "\n",
        "print(media)"
      ],
      "execution_count": null,
      "outputs": [
        {
          "output_type": "stream",
          "text": [
            "Digite um valor para [0][0]: 2\n",
            "Digite um valor para [0][1]: 3\n",
            "Digite um valor para [0][2]: 4\n",
            "Digite um valor para [1][0]: 5\n",
            "Digite um valor para [1][1]: 6\n",
            "Digite um valor para [1][2]: 7\n",
            "[[2, 3, 4], [5, 6, 7]]\n",
            "Soma dos valores:  27\n",
            "4.5\n"
          ],
          "name": "stdout"
        }
      ]
    }
  ]
}