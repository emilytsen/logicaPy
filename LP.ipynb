{
  "nbformat": 4,
  "nbformat_minor": 0,
  "metadata": {
    "colab": {
      "provenance": [],
      "authorship_tag": "ABX9TyNjt/k8yGnsTIagDKPB+tvf",
      "include_colab_link": true
    },
    "kernelspec": {
      "name": "python3",
      "display_name": "Python 3"
    },
    "language_info": {
      "name": "python"
    }
  },
  "cells": [
    {
      "cell_type": "markdown",
      "metadata": {
        "id": "view-in-github",
        "colab_type": "text"
      },
      "source": [
        "<a href=\"https://colab.research.google.com/github/emilytsen/logicaPy/blob/main/LP.ipynb\" target=\"_parent\"><img src=\"https://colab.research.google.com/assets/colab-badge.svg\" alt=\"Open In Colab\"/></a>"
      ]
    },
    {
      "cell_type": "code",
      "metadata": {
        "colab": {
          "base_uri": "https://localhost:8080/"
        },
        "id": "6xPK8yhiZsbq",
        "outputId": "4d854fae-1673-4b90-e2f2-956ccc75360a"
      },
      "source": [
        "#2\n",
        "\n",
        "numero = 0\n",
        "par = 0\n",
        "cont = 0\n",
        "for i in range(20):\n",
        "  numero = random.randint(1,50)\n",
        "  print(numero, end=' ')\n",
        "  calc = numero % 2\n",
        "  if calc == 0:\n",
        "    par = par + numero\n",
        "    cont = cont + 1\n",
        "total = par/cont\n",
        "print('A média entre os números pares é', float(\"{:.2f}\".format(total)))"
      ],
      "execution_count": null,
      "outputs": [
        {
          "output_type": "stream",
          "text": [
            "49 49 43 8 44 37 48 3 6 43 26 33 12 12 18 11 11 37 33 33 A média entre os números pares é 21.75\n"
          ],
          "name": "stdout"
        }
      ]
    },
    {
      "cell_type": "code",
      "metadata": {
        "colab": {
          "base_uri": "https://localhost:8080/"
        },
        "id": "C2LqumtYkV_k",
        "outputId": "a0226800-9522-4aa8-a50f-6767834d583f"
      },
      "source": [
        "#3\n",
        "import random\n",
        "n = 0\n",
        "for i in range(20):\n",
        "  n = random.randint(1,50)\n",
        "  calc = n % 5\n",
        "  if calc == 0:\n",
        "    print(n, end=' ')\n",
        "\n",
        "  "
      ],
      "execution_count": null,
      "outputs": [
        {
          "output_type": "stream",
          "text": [
            "20 45 "
          ],
          "name": "stdout"
        }
      ]
    },
    {
      "cell_type": "code",
      "metadata": {
        "colab": {
          "base_uri": "https://localhost:8080/"
        },
        "id": "JCA0SBz-m6J5",
        "outputId": "130f81f0-e0d9-4f72-eb6f-7712a251b4d2"
      },
      "source": [
        "#4 simples\n",
        "import random \n",
        "m = int(input('digite um múmero:'))\n",
        "for i in range(20):\n",
        "  n = random.randint(1,50)\n",
        "  calc = n % m\n",
        "  if calc == 0:\n",
        "    print(n, end=' ')\n",
        "   "
      ],
      "execution_count": null,
      "outputs": [
        {
          "output_type": "stream",
          "text": [
            "digite um múmero:9\n",
            "36 36 36 "
          ],
          "name": "stdout"
        }
      ]
    },
    {
      "cell_type": "code",
      "metadata": {
        "colab": {
          "base_uri": "https://localhost:8080/"
        },
        "id": "MZ_ce20B1T1L",
        "outputId": "e8879e6e-2757-4aca-f1fc-e0e371173f94"
      },
      "source": [
        "#4 complexo (correto)\n",
        "import random \n",
        "L=[0]*20\n",
        "D=[]\n",
        "m = int(input('digite um múmero:'))\n",
        "for i in range(len(L)):\n",
        "    L[i] = random.randint(1,50)\n",
        "    cont = L[i]\n",
        "    calc = cont % m\n",
        "    if calc == 0:\n",
        "      D.append(cont)\n",
        "print('números gerados:',L)\n",
        "print('números múltiplos pelo valor inserido',D)"
      ],
      "execution_count": null,
      "outputs": [
        {
          "output_type": "stream",
          "text": [
            "digite um múmero:9\n",
            "números gerados: [31, 7, 49, 38, 36, 30, 31, 32, 47, 4, 20, 8, 11, 40, 16, 12, 41, 36, 4, 23]\n",
            "números múltiplos pelo valor inserido [36, 36]\n"
          ],
          "name": "stdout"
        }
      ]
    },
    {
      "cell_type": "code",
      "metadata": {
        "colab": {
          "base_uri": "https://localhost:8080/"
        },
        "id": "L-udAEY63-gl",
        "outputId": "6476f3b1-b475-43eb-e76d-e3e68dad650a"
      },
      "source": [
        "#5 (n consegui)\n",
        "import random\n",
        "o = int(input('digite 1 ou 2:'))\n",
        "l=[0]*10 \n",
        "for i in range(len(l)):\n",
        "  l[i] = random.randint(1,50)\n",
        "if o == 1:\n",
        "  print(l)\n",
        "else\n",
        "  "
      ],
      "execution_count": null,
      "outputs": [
        {
          "output_type": "stream",
          "text": [
            "digite 1 ou 2:1\n",
            "[2, 22, 9, 28, 29, 25, 5, 45, 38, 44]\n"
          ],
          "name": "stdout"
        }
      ]
    },
    {
      "cell_type": "code",
      "metadata": {
        "colab": {
          "base_uri": "https://localhost:8080/"
        },
        "id": "oXXiky_-AvFi",
        "outputId": "f0f0176a-65f9-4ed1-8441-cd9605701b71"
      },
      "source": [
        "#6\n",
        "import random \n",
        "a = [0]*10\n",
        "m = int(input('digite um múmero:'))\n",
        "cont = 0\n",
        "b = []\n",
        "for i in range(len(a)):\n",
        "  a[i] = random.randint(1,50)\n",
        "  cont = a[i]\n",
        "  calc = cont * m\n",
        "  b.append(calc)\n",
        "print('lista gerada:',a)\n",
        "print('lista multiplicada pelo número inserido:',b)"
      ],
      "execution_count": null,
      "outputs": [
        {
          "output_type": "stream",
          "text": [
            "digite um múmero:4\n",
            "lista gerada: [16, 14, 13, 28, 22, 20, 10, 11, 14, 44]\n",
            "lista multiplicada pelo número inserido: [64, 56, 52, 112, 88, 80, 40, 44, 56, 176]\n"
          ],
          "name": "stdout"
        }
      ]
    },
    {
      "cell_type": "code",
      "metadata": {
        "id": "AFXXpsm1D6IZ"
      },
      "source": [
        "#7\n",
        "\n"
      ],
      "execution_count": null,
      "outputs": []
    },
    {
      "cell_type": "code",
      "metadata": {
        "colab": {
          "base_uri": "https://localhost:8080/"
        },
        "id": "KlOu8GFzD7tP",
        "outputId": "85415d44-ef2d-40f4-d589-b74bfd767146"
      },
      "source": [
        "#8\n",
        "import random \n",
        "a = [0]*20\n",
        "b = []\n",
        "c = []\n",
        "for i in range(len(a)):\n",
        "  a[i] = random.randint(1,50)\n",
        "  cont = a[i]\n",
        "  calc = cont % 2\n",
        "  if calc == 0:\n",
        "    b.append(cont)\n",
        "  else:\n",
        "     c.append(cont)\n",
        "print('pares:',b)\n",
        "print('impares',c)\n"
      ],
      "execution_count": null,
      "outputs": [
        {
          "output_type": "stream",
          "text": [
            "pares: [48, 48, 24, 48, 24, 30, 8, 24, 4, 10, 28, 14]\n",
            "impares [23, 35, 19, 13, 1, 39, 1, 21]\n"
          ],
          "name": "stdout"
        }
      ]
    },
    {
      "cell_type": "code",
      "metadata": {
        "colab": {
          "base_uri": "https://localhost:8080/"
        },
        "id": "SVnOfuizHqGC",
        "outputId": "8c45b27a-cd98-432c-c448-394f7551ce24"
      },
      "source": [
        "#9 \n",
        "import random \n",
        "a = [0]*10\n",
        "b = []\n",
        "for i in range(len(a)):\n",
        "  a[i] = random.randint(1,50)\n",
        "  n = a[i]\n",
        "  if n in a:\n",
        "    b.append(n)\n",
        "print(b)"
      ],
      "execution_count": null,
      "outputs": [
        {
          "output_type": "stream",
          "text": [
            "[23, 38, 1, 14, 24, 43, 26, 47, 41, 11]\n"
          ],
          "name": "stdout"
        }
      ]
    },
    {
      "cell_type": "code",
      "metadata": {
        "colab": {
          "base_uri": "https://localhost:8080/"
        },
        "id": "DWhQE6FeCncC",
        "outputId": "06e40786-de46-4cb7-ff5a-e72bb8bc0ada"
      },
      "source": [
        "#10\n",
        "import random\n",
        "l = [0]*10\n",
        "x = []\n",
        "\n",
        "x = int(input('digite um número: '))\n",
        "for i in range(len(a)):\n",
        "  l[i] = random.randint(1,50)\n",
        "print(l)\n",
        "if x in l:\n",
        "  print('o valor digitado pertence a lista')\n",
        "else:\n",
        "  print('o valor digitado não pertence a lista')\n",
        "\n"
      ],
      "execution_count": null,
      "outputs": [
        {
          "output_type": "stream",
          "text": [
            "digite um número: 8\n",
            "[4, 36, 18, 43, 47, 46, 3, 34, 39, 3]\n",
            "o valor digitado não pertence a lista\n"
          ],
          "name": "stdout"
        }
      ]
    },
    {
      "cell_type": "code",
      "metadata": {
        "colab": {
          "base_uri": "https://localhost:8080/"
        },
        "id": "f4PrUIujEQ5i",
        "outputId": "68780a72-6c34-4f07-d6a3-5ec888f3be9a"
      },
      "source": [
        "#11 (n consegui)\n",
        "l = []\n",
        "for i in range(2):\n",
        "  l[i] = l.append(input('Digite o número:'))\n",
        "print(l)\n",
        "\n"
      ],
      "execution_count": null,
      "outputs": [
        {
          "output_type": "stream",
          "text": [
            "Digite o número:3\n",
            "Digite o número:4\n",
            "[None, None]\n"
          ],
          "name": "stdout"
        }
      ]
    },
    {
      "cell_type": "code",
      "metadata": {
        "colab": {
          "base_uri": "https://localhost:8080/"
        },
        "id": "JvVOKfdI25L7",
        "outputId": "ccb60a49-6d6f-4442-8926-e604d3493566"
      },
      "source": [
        "import random\n",
        "l = []\n",
        "soma = 0\n",
        "for i in range(10):\n",
        "  l.append([])\n",
        "  for j in range (10):\n",
        "    l[i].append(random.randint(1,50))\n",
        "    soma = soma + l[i][j]\n",
        "    media = soma/100\n",
        "print(l)\n",
        "print(soma)\n",
        "print(media)"
      ],
      "execution_count": null,
      "outputs": [
        {
          "output_type": "stream",
          "text": [
            "[[6, 19, 21, 38, 25, 46, 35, 50, 39, 17], [28, 1, 31, 19, 15, 24, 48, 34, 6, 36], [34, 17, 37, 19, 29, 28, 15, 50, 50, 41], [47, 20, 42, 20, 17, 8, 20, 2, 30, 19], [34, 21, 41, 41, 39, 34, 40, 4, 2, 26], [4, 3, 7, 43, 43, 23, 39, 2, 15, 30], [6, 18, 39, 23, 12, 42, 21, 18, 15, 6], [19, 20, 4, 4, 46, 47, 41, 3, 14, 2], [43, 42, 13, 35, 25, 45, 5, 23, 44, 39], [44, 28, 25, 34, 13, 23, 49, 19, 41, 26]]\n",
            "2590\n",
            "25.9\n"
          ],
          "name": "stdout"
        }
      ]
    },
    {
      "cell_type": "code",
      "metadata": {
        "colab": {
          "base_uri": "https://localhost:8080/"
        },
        "id": "blCsgx5i6Xc1",
        "outputId": "66698248-29f6-4057-dd87-46aa46a33948"
      },
      "source": [
        "import random\n",
        "l = []\n",
        "soma = 0\n",
        "for i in range(5):\n",
        "  l.append([])\n",
        "  for j in range (5):\n",
        "    l[i].append(random.randint(10,99))\n",
        "  soma = soma + l[i][j]\n",
        "  print(l[i])  \n",
        "  print(soma)\n",
        "\n",
        "\n"
      ],
      "execution_count": null,
      "outputs": [
        {
          "output_type": "stream",
          "text": [
            "[82, 52, 99, 70, 72]\n",
            "72\n",
            "[18, 37, 20, 96, 56]\n",
            "128\n",
            "[71, 23, 61, 82, 20]\n",
            "148\n",
            "[28, 72, 32, 21, 36]\n",
            "184\n",
            "[16, 82, 92, 74, 77]\n",
            "261\n"
          ],
          "name": "stdout"
        }
      ]
    },
    {
      "cell_type": "code",
      "metadata": {
        "colab": {
          "base_uri": "https://localhost:8080/"
        },
        "id": "k8nVTGy8Nimh",
        "outputId": "7bd16d97-ecf9-4ab3-e986-efb4a3c7e8d1"
      },
      "source": [
        "import random\n",
        "l = []\n",
        "calc = 0\n",
        "impares = 0\n",
        "for i in range(5):\n",
        "  l.append([])\n",
        "  for j in range (5):\n",
        "    l[i].append(random.randint(10,99))\n",
        "    calc = l[i][j]%2\n",
        "    if calc == 1:\n",
        "      impares += 1\n",
        "  print(l[i])\n",
        "  print(\"Nessa linha contém {} níumero(s) ímpares\".format(impares))\n",
        "  impares = 0"
      ],
      "execution_count": null,
      "outputs": [
        {
          "output_type": "stream",
          "text": [
            "[55, 79, 28, 49, 62]\n",
            "Nessa linha contém 3 níumero(s) ímpares\n",
            "[69, 88, 45, 91, 19]\n",
            "Nessa linha contém 4 níumero(s) ímpares\n",
            "[73, 15, 14, 62, 24]\n",
            "Nessa linha contém 2 níumero(s) ímpares\n",
            "[29, 79, 41, 65, 86]\n",
            "Nessa linha contém 4 níumero(s) ímpares\n",
            "[50, 47, 51, 19, 66]\n",
            "Nessa linha contém 3 níumero(s) ímpares\n"
          ],
          "name": "stdout"
        }
      ]
    },
    {
      "cell_type": "code",
      "metadata": {
        "id": "uryLjv3dQH-g",
        "outputId": "4d134341-aa17-4d0a-ede1-2c57eb8ea9eb",
        "colab": {
          "base_uri": "https://localhost:8080/"
        }
      },
      "source": [
        "import random\n",
        "l = []\n",
        "calc = 0\n",
        "impares = 0\n",
        "for i in range(5):\n",
        "  l.append([])\n",
        "  for j in range (5):\n",
        "    l[i].append(random.randint(10,99))\n",
        "    calc = l[i][j]%2\n",
        "    if calc == 1:\n",
        "      impares += 1\n",
        "  print(l[i])\n",
        "  print(\"Nessa linha contém {} níumero(s) ímpares\".format(impares))\n",
        "  impares = 0\n"
      ],
      "execution_count": null,
      "outputs": [
        {
          "output_type": "stream",
          "text": [
            "[59, 50, 89, 57, 57]\n",
            "Nessa linha contém 4 níumero(s) ímpares\n",
            "[95, 50, 33, 55, 41]\n",
            "Nessa linha contém 4 níumero(s) ímpares\n",
            "[43, 23, 95, 43, 94]\n",
            "Nessa linha contém 4 níumero(s) ímpares\n",
            "[97, 62, 98, 42, 49]\n",
            "Nessa linha contém 2 níumero(s) ímpares\n",
            "[42, 96, 47, 39, 71]\n",
            "Nessa linha contém 3 níumero(s) ímpares\n"
          ],
          "name": "stdout"
        }
      ]
    },
    {
      "cell_type": "code",
      "metadata": {
        "colab": {
          "base_uri": "https://localhost:8080/",
          "height": 527
        },
        "id": "A24tm6A3Ar3I",
        "outputId": "bf4afb0d-b1cd-4d3f-a05a-2b2268c2a9e4"
      },
      "source": [
        "resp='V'\n",
        "while resp.upper() =='V': #2\n",
        "  print(\"\\nInforme o intervalo para fazer a soma\") \n",
        "  ini = int(input(\"início:\"))\n",
        "  fim = int(input(\"final\")) #5\n",
        "  if fim<ini:\n",
        "    x = ini\n",
        "    ini = fim \n",
        "    fim = x\n",
        "  i = ini\n",
        "  soma = 0\n",
        "  while i <= fim:      #12\n",
        "    soma = soma + i #13\n",
        "    i += 1\n",
        "  print(\"n\\A soma entre {} e {} é {}\".format(ini,fim,soma)) \n",
        "  resp = input(\"Digite v para voltar e realizar novamente:\") #16\n",
        "print(\"\\nFim do programa\")"
      ],
      "execution_count": null,
      "outputs": [
        {
          "output_type": "error",
          "ename": "KeyboardInterrupt",
          "evalue": "ignored",
          "traceback": [
            "\u001b[0;31m---------------------------------------------------------------------------\u001b[0m",
            "\u001b[0;31mKeyboardInterrupt\u001b[0m                         Traceback (most recent call last)",
            "\u001b[0;32m/usr/local/lib/python3.7/dist-packages/ipykernel/kernelbase.py\u001b[0m in \u001b[0;36m_input_request\u001b[0;34m(self, prompt, ident, parent, password)\u001b[0m\n\u001b[1;32m    728\u001b[0m             \u001b[0;32mtry\u001b[0m\u001b[0;34m:\u001b[0m\u001b[0;34m\u001b[0m\u001b[0;34m\u001b[0m\u001b[0m\n\u001b[0;32m--> 729\u001b[0;31m                 \u001b[0mident\u001b[0m\u001b[0;34m,\u001b[0m \u001b[0mreply\u001b[0m \u001b[0;34m=\u001b[0m \u001b[0mself\u001b[0m\u001b[0;34m.\u001b[0m\u001b[0msession\u001b[0m\u001b[0;34m.\u001b[0m\u001b[0mrecv\u001b[0m\u001b[0;34m(\u001b[0m\u001b[0mself\u001b[0m\u001b[0;34m.\u001b[0m\u001b[0mstdin_socket\u001b[0m\u001b[0;34m,\u001b[0m \u001b[0;36m0\u001b[0m\u001b[0;34m)\u001b[0m\u001b[0;34m\u001b[0m\u001b[0;34m\u001b[0m\u001b[0m\n\u001b[0m\u001b[1;32m    730\u001b[0m             \u001b[0;32mexcept\u001b[0m \u001b[0mException\u001b[0m\u001b[0;34m:\u001b[0m\u001b[0;34m\u001b[0m\u001b[0;34m\u001b[0m\u001b[0m\n",
            "\u001b[0;32m/usr/local/lib/python3.7/dist-packages/jupyter_client/session.py\u001b[0m in \u001b[0;36mrecv\u001b[0;34m(self, socket, mode, content, copy)\u001b[0m\n\u001b[1;32m    802\u001b[0m         \u001b[0;32mtry\u001b[0m\u001b[0;34m:\u001b[0m\u001b[0;34m\u001b[0m\u001b[0;34m\u001b[0m\u001b[0m\n\u001b[0;32m--> 803\u001b[0;31m             \u001b[0mmsg_list\u001b[0m \u001b[0;34m=\u001b[0m \u001b[0msocket\u001b[0m\u001b[0;34m.\u001b[0m\u001b[0mrecv_multipart\u001b[0m\u001b[0;34m(\u001b[0m\u001b[0mmode\u001b[0m\u001b[0;34m,\u001b[0m \u001b[0mcopy\u001b[0m\u001b[0;34m=\u001b[0m\u001b[0mcopy\u001b[0m\u001b[0;34m)\u001b[0m\u001b[0;34m\u001b[0m\u001b[0;34m\u001b[0m\u001b[0m\n\u001b[0m\u001b[1;32m    804\u001b[0m         \u001b[0;32mexcept\u001b[0m \u001b[0mzmq\u001b[0m\u001b[0;34m.\u001b[0m\u001b[0mZMQError\u001b[0m \u001b[0;32mas\u001b[0m \u001b[0me\u001b[0m\u001b[0;34m:\u001b[0m\u001b[0;34m\u001b[0m\u001b[0;34m\u001b[0m\u001b[0m\n",
            "\u001b[0;32m/usr/local/lib/python3.7/dist-packages/zmq/sugar/socket.py\u001b[0m in \u001b[0;36mrecv_multipart\u001b[0;34m(self, flags, copy, track)\u001b[0m\n\u001b[1;32m    582\u001b[0m         \"\"\"\n\u001b[0;32m--> 583\u001b[0;31m         \u001b[0mparts\u001b[0m \u001b[0;34m=\u001b[0m \u001b[0;34m[\u001b[0m\u001b[0mself\u001b[0m\u001b[0;34m.\u001b[0m\u001b[0mrecv\u001b[0m\u001b[0;34m(\u001b[0m\u001b[0mflags\u001b[0m\u001b[0;34m,\u001b[0m \u001b[0mcopy\u001b[0m\u001b[0;34m=\u001b[0m\u001b[0mcopy\u001b[0m\u001b[0;34m,\u001b[0m \u001b[0mtrack\u001b[0m\u001b[0;34m=\u001b[0m\u001b[0mtrack\u001b[0m\u001b[0;34m)\u001b[0m\u001b[0;34m]\u001b[0m\u001b[0;34m\u001b[0m\u001b[0;34m\u001b[0m\u001b[0m\n\u001b[0m\u001b[1;32m    584\u001b[0m         \u001b[0;31m# have first part already, only loop while more to receive\u001b[0m\u001b[0;34m\u001b[0m\u001b[0;34m\u001b[0m\u001b[0;34m\u001b[0m\u001b[0m\n",
            "\u001b[0;32mzmq/backend/cython/socket.pyx\u001b[0m in \u001b[0;36mzmq.backend.cython.socket.Socket.recv\u001b[0;34m()\u001b[0m\n",
            "\u001b[0;32mzmq/backend/cython/socket.pyx\u001b[0m in \u001b[0;36mzmq.backend.cython.socket.Socket.recv\u001b[0;34m()\u001b[0m\n",
            "\u001b[0;32mzmq/backend/cython/socket.pyx\u001b[0m in \u001b[0;36mzmq.backend.cython.socket._recv_copy\u001b[0;34m()\u001b[0m\n",
            "\u001b[0;32m/usr/local/lib/python3.7/dist-packages/zmq/backend/cython/checkrc.pxd\u001b[0m in \u001b[0;36mzmq.backend.cython.checkrc._check_rc\u001b[0;34m()\u001b[0m\n",
            "\u001b[0;31mKeyboardInterrupt\u001b[0m: ",
            "\nDuring handling of the above exception, another exception occurred:\n",
            "\u001b[0;31mKeyboardInterrupt\u001b[0m                         Traceback (most recent call last)",
            "\u001b[0;32m<ipython-input-26-268d1d01246b>\u001b[0m in \u001b[0;36m<module>\u001b[0;34m()\u001b[0m\n\u001b[1;32m     14\u001b[0m     \u001b[0mi\u001b[0m \u001b[0;34m+=\u001b[0m \u001b[0;36m1\u001b[0m\u001b[0;34m\u001b[0m\u001b[0;34m\u001b[0m\u001b[0m\n\u001b[1;32m     15\u001b[0m   \u001b[0mprint\u001b[0m\u001b[0;34m(\u001b[0m\u001b[0;34m\"n\\A soma entre {} e {} é {}\"\u001b[0m\u001b[0;34m.\u001b[0m\u001b[0mformat\u001b[0m\u001b[0;34m(\u001b[0m\u001b[0mini\u001b[0m\u001b[0;34m,\u001b[0m\u001b[0mfim\u001b[0m\u001b[0;34m,\u001b[0m\u001b[0msoma\u001b[0m\u001b[0;34m)\u001b[0m\u001b[0;34m)\u001b[0m \u001b[0;31m#15\u001b[0m\u001b[0;34m\u001b[0m\u001b[0;34m\u001b[0m\u001b[0m\n\u001b[0;32m---> 16\u001b[0;31m   \u001b[0mresp\u001b[0m \u001b[0;34m=\u001b[0m \u001b[0minput\u001b[0m\u001b[0;34m(\u001b[0m\u001b[0;34m\"Digite v para voltar e realizar novamente:\"\u001b[0m\u001b[0;34m)\u001b[0m \u001b[0;31m#16\u001b[0m\u001b[0;34m\u001b[0m\u001b[0;34m\u001b[0m\u001b[0m\n\u001b[0m\u001b[1;32m     17\u001b[0m \u001b[0mprint\u001b[0m\u001b[0;34m(\u001b[0m\u001b[0;34m\"\\nFim do programa\"\u001b[0m\u001b[0;34m)\u001b[0m\u001b[0;34m\u001b[0m\u001b[0;34m\u001b[0m\u001b[0m\n",
            "\u001b[0;32m/usr/local/lib/python3.7/dist-packages/ipykernel/kernelbase.py\u001b[0m in \u001b[0;36mraw_input\u001b[0;34m(self, prompt)\u001b[0m\n\u001b[1;32m    702\u001b[0m             \u001b[0mself\u001b[0m\u001b[0;34m.\u001b[0m\u001b[0m_parent_ident\u001b[0m\u001b[0;34m,\u001b[0m\u001b[0;34m\u001b[0m\u001b[0;34m\u001b[0m\u001b[0m\n\u001b[1;32m    703\u001b[0m             \u001b[0mself\u001b[0m\u001b[0;34m.\u001b[0m\u001b[0m_parent_header\u001b[0m\u001b[0;34m,\u001b[0m\u001b[0;34m\u001b[0m\u001b[0;34m\u001b[0m\u001b[0m\n\u001b[0;32m--> 704\u001b[0;31m             \u001b[0mpassword\u001b[0m\u001b[0;34m=\u001b[0m\u001b[0;32mFalse\u001b[0m\u001b[0;34m,\u001b[0m\u001b[0;34m\u001b[0m\u001b[0;34m\u001b[0m\u001b[0m\n\u001b[0m\u001b[1;32m    705\u001b[0m         )\n\u001b[1;32m    706\u001b[0m \u001b[0;34m\u001b[0m\u001b[0m\n",
            "\u001b[0;32m/usr/local/lib/python3.7/dist-packages/ipykernel/kernelbase.py\u001b[0m in \u001b[0;36m_input_request\u001b[0;34m(self, prompt, ident, parent, password)\u001b[0m\n\u001b[1;32m    732\u001b[0m             \u001b[0;32mexcept\u001b[0m \u001b[0mKeyboardInterrupt\u001b[0m\u001b[0;34m:\u001b[0m\u001b[0;34m\u001b[0m\u001b[0;34m\u001b[0m\u001b[0m\n\u001b[1;32m    733\u001b[0m                 \u001b[0;31m# re-raise KeyboardInterrupt, to truncate traceback\u001b[0m\u001b[0;34m\u001b[0m\u001b[0;34m\u001b[0m\u001b[0;34m\u001b[0m\u001b[0m\n\u001b[0;32m--> 734\u001b[0;31m                 \u001b[0;32mraise\u001b[0m \u001b[0mKeyboardInterrupt\u001b[0m\u001b[0;34m\u001b[0m\u001b[0;34m\u001b[0m\u001b[0m\n\u001b[0m\u001b[1;32m    735\u001b[0m             \u001b[0;32melse\u001b[0m\u001b[0;34m:\u001b[0m\u001b[0;34m\u001b[0m\u001b[0;34m\u001b[0m\u001b[0m\n\u001b[1;32m    736\u001b[0m                 \u001b[0;32mbreak\u001b[0m\u001b[0;34m\u001b[0m\u001b[0;34m\u001b[0m\u001b[0m\n",
            "\u001b[0;31mKeyboardInterrupt\u001b[0m: "
          ]
        }
      ]
    },
    {
      "cell_type": "code",
      "metadata": {
        "colab": {
          "base_uri": "https://localhost:8080/"
        },
        "id": "5sy1UrIwJKh5",
        "outputId": "406890d8-504c-4251-8394-281a6c825fa0"
      },
      "source": [
        "import random \n",
        "a=1\n",
        "b=0\n",
        "c=50\n",
        "while a<=20:\n",
        "  d=random.randint(1,50)\n",
        "  if d > b:\n",
        "    b=d\n",
        "  if d < c:\n",
        "    c = d\n",
        "  if d == c:\n",
        "    print(\"mensagem\")\n",
        "  a+=1\n",
        "  print(b)\n",
        "  print(c)"
      ],
      "execution_count": null,
      "outputs": [
        {
          "output_type": "stream",
          "text": [
            "mensagem\n",
            "3\n",
            "3\n",
            "32\n",
            "3\n",
            "33\n",
            "3\n",
            "49\n",
            "3\n",
            "49\n",
            "3\n",
            "49\n",
            "3\n",
            "49\n",
            "3\n",
            "49\n",
            "3\n",
            "49\n",
            "3\n",
            "49\n",
            "3\n",
            "49\n",
            "3\n",
            "49\n",
            "3\n",
            "49\n",
            "3\n",
            "49\n",
            "3\n",
            "49\n",
            "3\n",
            "49\n",
            "3\n",
            "49\n",
            "3\n",
            "49\n",
            "3\n",
            "49\n",
            "3\n",
            "49\n",
            "3\n"
          ],
          "name": "stdout"
        }
      ]
    },
    {
      "cell_type": "code",
      "metadata": {
        "colab": {
          "base_uri": "https://localhost:8080/"
        },
        "id": "5HosD1RCMf6R",
        "outputId": "46d1044b-8e86-44ea-e400-0da392b57dbb"
      },
      "source": [
        "s=0\n",
        "a=int(input('digite:'))\n",
        "b=1\n",
        "while b<=a:\n",
        "  s+=b\n",
        "  b+= 1\n",
        "print(s)"
      ],
      "execution_count": null,
      "outputs": [
        {
          "output_type": "stream",
          "text": [
            "digite:10\n",
            "55\n"
          ],
          "name": "stdout"
        }
      ]
    }
  ]
}